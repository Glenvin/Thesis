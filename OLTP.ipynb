{
 "cells": [
  {
   "cell_type": "code",
   "execution_count": 1,
   "id": "6f47a26e",
   "metadata": {},
   "outputs": [],
   "source": [
    "import pandas as pd\n",
    "import numpy as np\n",
    "import pyodbc"
   ]
  },
  {
   "cell_type": "markdown",
   "id": "9a6fc755",
   "metadata": {},
   "source": [
    "# DATA"
   ]
  },
  {
   "cell_type": "code",
   "execution_count": 2,
   "id": "e21bec58",
   "metadata": {},
   "outputs": [],
   "source": [
    "server = 'DESKTOP-LKUO5BT\\SQLEXPRESS' \n",
    "database = 'DB_Oltp' \n",
    "username = 'DESKTOP-LKUO5BT\\Glenvin k' \n",
    "password = ' ' "
   ]
  },
  {
   "cell_type": "code",
   "execution_count": 3,
   "id": "36d8840e",
   "metadata": {},
   "outputs": [
    {
     "data": {
      "text/html": [
       "<div>\n",
       "<style scoped>\n",
       "    .dataframe tbody tr th:only-of-type {\n",
       "        vertical-align: middle;\n",
       "    }\n",
       "\n",
       "    .dataframe tbody tr th {\n",
       "        vertical-align: top;\n",
       "    }\n",
       "\n",
       "    .dataframe thead th {\n",
       "        text-align: right;\n",
       "    }\n",
       "</style>\n",
       "<table border=\"1\" class=\"dataframe\">\n",
       "  <thead>\n",
       "    <tr style=\"text-align: right;\">\n",
       "      <th></th>\n",
       "      <th>Purchasing Document</th>\n",
       "      <th>Item</th>\n",
       "      <th>Document Date</th>\n",
       "      <th>Year</th>\n",
       "      <th>Short Text</th>\n",
       "      <th>Categori</th>\n",
       "      <th>Order Quantity</th>\n",
       "      <th>Net price</th>\n",
       "      <th>Net Order Value</th>\n",
       "      <th>Order Unit</th>\n",
       "      <th>Lokasi</th>\n",
       "    </tr>\n",
       "  </thead>\n",
       "  <tbody>\n",
       "    <tr>\n",
       "      <th>0</th>\n",
       "      <td>9100427506</td>\n",
       "      <td>1</td>\n",
       "      <td>12/30/2020</td>\n",
       "      <td>2020</td>\n",
       "      <td>Baja IWF 200 x 100 x 5.5 x 8mm - 6m</td>\n",
       "      <td>Baja IWF</td>\n",
       "      <td>4.0</td>\n",
       "      <td>1,787,500</td>\n",
       "      <td>7,150,000</td>\n",
       "      <td>BTG</td>\n",
       "      <td>Sampit</td>\n",
       "    </tr>\n",
       "    <tr>\n",
       "      <th>1</th>\n",
       "      <td>9100427506</td>\n",
       "      <td>2</td>\n",
       "      <td>12/30/2020</td>\n",
       "      <td>2020</td>\n",
       "      <td>Plate bordes 6mm x 4' x 8'</td>\n",
       "      <td>Plate</td>\n",
       "      <td>1.0</td>\n",
       "      <td>2,169,500</td>\n",
       "      <td>2,169,500</td>\n",
       "      <td>LBR</td>\n",
       "      <td>Sampit</td>\n",
       "    </tr>\n",
       "    <tr>\n",
       "      <th>2</th>\n",
       "      <td>9100427506</td>\n",
       "      <td>3</td>\n",
       "      <td>12/30/2020</td>\n",
       "      <td>2020</td>\n",
       "      <td>Plate strip 4 x 38 x 6000mm</td>\n",
       "      <td>Plate</td>\n",
       "      <td>5.0</td>\n",
       "      <td>130,000</td>\n",
       "      <td>650,000</td>\n",
       "      <td>BTG</td>\n",
       "      <td>Sampit</td>\n",
       "    </tr>\n",
       "    <tr>\n",
       "      <th>3</th>\n",
       "      <td>9100427506</td>\n",
       "      <td>4</td>\n",
       "      <td>12/30/2020</td>\n",
       "      <td>2020</td>\n",
       "      <td>Pipa galvanish 2\" x 6m class Medium BS</td>\n",
       "      <td>Pipa</td>\n",
       "      <td>2.0</td>\n",
       "      <td>607,000</td>\n",
       "      <td>1,214,000</td>\n",
       "      <td>BTG</td>\n",
       "      <td>Sampit</td>\n",
       "    </tr>\n",
       "    <tr>\n",
       "      <th>4</th>\n",
       "      <td>9100427506</td>\n",
       "      <td>5</td>\n",
       "      <td>12/30/2020</td>\n",
       "      <td>2020</td>\n",
       "      <td>Plate mild steel 6mm x 5' x 20'</td>\n",
       "      <td>Plate</td>\n",
       "      <td>2.0</td>\n",
       "      <td>5,322,000</td>\n",
       "      <td>10,644,000</td>\n",
       "      <td>LBR</td>\n",
       "      <td>Sampit</td>\n",
       "    </tr>\n",
       "  </tbody>\n",
       "</table>\n",
       "</div>"
      ],
      "text/plain": [
       "   Purchasing Document  Item Document Date  Year  \\\n",
       "0           9100427506     1    12/30/2020  2020   \n",
       "1           9100427506     2    12/30/2020  2020   \n",
       "2           9100427506     3    12/30/2020  2020   \n",
       "3           9100427506     4    12/30/2020  2020   \n",
       "4           9100427506     5    12/30/2020  2020   \n",
       "\n",
       "                               Short Text  Categori  Order Quantity  \\\n",
       "0     Baja IWF 200 x 100 x 5.5 x 8mm - 6m  Baja IWF             4.0   \n",
       "1              Plate bordes 6mm x 4' x 8'     Plate             1.0   \n",
       "2             Plate strip 4 x 38 x 6000mm     Plate             5.0   \n",
       "3  Pipa galvanish 2\" x 6m class Medium BS     Pipa              2.0   \n",
       "4         Plate mild steel 6mm x 5' x 20'     Plate             2.0   \n",
       "\n",
       "   Net price Net Order Value Order Unit  Lokasi  \n",
       "0  1,787,500       7,150,000        BTG  Sampit  \n",
       "1  2,169,500       2,169,500        LBR  Sampit  \n",
       "2    130,000         650,000        BTG  Sampit  \n",
       "3    607,000       1,214,000        BTG  Sampit  \n",
       "4  5,322,000      10,644,000        LBR  Sampit  "
      ]
     },
     "execution_count": 3,
     "metadata": {},
     "output_type": "execute_result"
    }
   ],
   "source": [
    "df = pd.read_csv('Data.csv', sep = ',')\n",
    "df.head()"
   ]
  },
  {
   "cell_type": "code",
   "execution_count": 4,
   "id": "4e621b89",
   "metadata": {},
   "outputs": [],
   "source": [
    "df = df [['Purchasing Document','Document Date','Short Text', 'Categori', 'Order Quantity', 'Net price', 'Order Unit', 'Lokasi']]"
   ]
  },
  {
   "cell_type": "code",
   "execution_count": 5,
   "id": "3697b72c",
   "metadata": {},
   "outputs": [
    {
     "data": {
      "text/html": [
       "<div>\n",
       "<style scoped>\n",
       "    .dataframe tbody tr th:only-of-type {\n",
       "        vertical-align: middle;\n",
       "    }\n",
       "\n",
       "    .dataframe tbody tr th {\n",
       "        vertical-align: top;\n",
       "    }\n",
       "\n",
       "    .dataframe thead th {\n",
       "        text-align: right;\n",
       "    }\n",
       "</style>\n",
       "<table border=\"1\" class=\"dataframe\">\n",
       "  <thead>\n",
       "    <tr style=\"text-align: right;\">\n",
       "      <th></th>\n",
       "      <th>Purchasing_Document</th>\n",
       "      <th>Document_Date</th>\n",
       "      <th>Short_Text</th>\n",
       "      <th>Categori</th>\n",
       "      <th>Order_Quantity</th>\n",
       "      <th>Net_price</th>\n",
       "      <th>Order_Unit</th>\n",
       "      <th>Lokasi</th>\n",
       "    </tr>\n",
       "  </thead>\n",
       "  <tbody>\n",
       "    <tr>\n",
       "      <th>0</th>\n",
       "      <td>9100427506</td>\n",
       "      <td>12/30/2020</td>\n",
       "      <td>Baja IWF 200 x 100 x 5.5 x 8mm - 6m</td>\n",
       "      <td>Baja IWF</td>\n",
       "      <td>4.0</td>\n",
       "      <td>1,787,500</td>\n",
       "      <td>BTG</td>\n",
       "      <td>Sampit</td>\n",
       "    </tr>\n",
       "    <tr>\n",
       "      <th>1</th>\n",
       "      <td>9100427506</td>\n",
       "      <td>12/30/2020</td>\n",
       "      <td>Plate bordes 6mm x 4' x 8'</td>\n",
       "      <td>Plate</td>\n",
       "      <td>1.0</td>\n",
       "      <td>2,169,500</td>\n",
       "      <td>LBR</td>\n",
       "      <td>Sampit</td>\n",
       "    </tr>\n",
       "    <tr>\n",
       "      <th>2</th>\n",
       "      <td>9100427506</td>\n",
       "      <td>12/30/2020</td>\n",
       "      <td>Plate strip 4 x 38 x 6000mm</td>\n",
       "      <td>Plate</td>\n",
       "      <td>5.0</td>\n",
       "      <td>130,000</td>\n",
       "      <td>BTG</td>\n",
       "      <td>Sampit</td>\n",
       "    </tr>\n",
       "    <tr>\n",
       "      <th>3</th>\n",
       "      <td>9100427506</td>\n",
       "      <td>12/30/2020</td>\n",
       "      <td>Pipa galvanish 2\" x 6m class Medium BS</td>\n",
       "      <td>Pipa</td>\n",
       "      <td>2.0</td>\n",
       "      <td>607,000</td>\n",
       "      <td>BTG</td>\n",
       "      <td>Sampit</td>\n",
       "    </tr>\n",
       "    <tr>\n",
       "      <th>4</th>\n",
       "      <td>9100427506</td>\n",
       "      <td>12/30/2020</td>\n",
       "      <td>Plate mild steel 6mm x 5' x 20'</td>\n",
       "      <td>Plate</td>\n",
       "      <td>2.0</td>\n",
       "      <td>5,322,000</td>\n",
       "      <td>LBR</td>\n",
       "      <td>Sampit</td>\n",
       "    </tr>\n",
       "  </tbody>\n",
       "</table>\n",
       "</div>"
      ],
      "text/plain": [
       "   Purchasing_Document Document_Date                              Short_Text  \\\n",
       "0           9100427506    12/30/2020     Baja IWF 200 x 100 x 5.5 x 8mm - 6m   \n",
       "1           9100427506    12/30/2020              Plate bordes 6mm x 4' x 8'   \n",
       "2           9100427506    12/30/2020             Plate strip 4 x 38 x 6000mm   \n",
       "3           9100427506    12/30/2020  Pipa galvanish 2\" x 6m class Medium BS   \n",
       "4           9100427506    12/30/2020         Plate mild steel 6mm x 5' x 20'   \n",
       "\n",
       "   Categori  Order_Quantity  Net_price Order_Unit  Lokasi  \n",
       "0  Baja IWF             4.0  1,787,500        BTG  Sampit  \n",
       "1     Plate             1.0  2,169,500        LBR  Sampit  \n",
       "2     Plate             5.0    130,000        BTG  Sampit  \n",
       "3     Pipa              2.0    607,000        BTG  Sampit  \n",
       "4     Plate             2.0  5,322,000        LBR  Sampit  "
      ]
     },
     "execution_count": 5,
     "metadata": {},
     "output_type": "execute_result"
    }
   ],
   "source": [
    "df.columns = df.columns.str.replace(' ', '_')\n",
    "df.head()"
   ]
  },
  {
   "cell_type": "markdown",
   "id": "153430a8",
   "metadata": {},
   "source": [
    "# CATEGORI"
   ]
  },
  {
   "cell_type": "code",
   "execution_count": 6,
   "id": "79bdbbba",
   "metadata": {},
   "outputs": [],
   "source": [
    "c_Oltp = pyodbc.connect(\"Driver={SQL Server};\"\n",
    "            \"Server=DESKTOP-LKUO5BT\\SQLEXPRESS;\"\n",
    "            \"Database=DB_Oltp;\"\n",
    "            \"Trusted_Connection=yes;\")\n",
    "cursor = c_Oltp.cursor()"
   ]
  },
  {
   "cell_type": "code",
   "execution_count": 7,
   "id": "63bb6e78",
   "metadata": {},
   "outputs": [],
   "source": [
    "Categori = pd.DataFrame(np.sort(df['Categori'].unique()), columns=['Categori'])\n",
    "Categori['Categori_ID'] = range(1, 1 + len(Categori))\n",
    "Categori = Categori.reindex(columns=['Categori_ID', 'Categori'])"
   ]
  },
  {
   "cell_type": "code",
   "execution_count": 8,
   "id": "86ab7345",
   "metadata": {},
   "outputs": [
    {
     "data": {
      "text/html": [
       "<div>\n",
       "<style scoped>\n",
       "    .dataframe tbody tr th:only-of-type {\n",
       "        vertical-align: middle;\n",
       "    }\n",
       "\n",
       "    .dataframe tbody tr th {\n",
       "        vertical-align: top;\n",
       "    }\n",
       "\n",
       "    .dataframe thead th {\n",
       "        text-align: right;\n",
       "    }\n",
       "</style>\n",
       "<table border=\"1\" class=\"dataframe\">\n",
       "  <thead>\n",
       "    <tr style=\"text-align: right;\">\n",
       "      <th></th>\n",
       "      <th>Categori_ID</th>\n",
       "      <th>Categori</th>\n",
       "    </tr>\n",
       "  </thead>\n",
       "  <tbody>\n",
       "    <tr>\n",
       "      <th>0</th>\n",
       "      <td>1</td>\n",
       "      <td>Angle</td>\n",
       "    </tr>\n",
       "    <tr>\n",
       "      <th>1</th>\n",
       "      <td>2</td>\n",
       "      <td>Baja IWF</td>\n",
       "    </tr>\n",
       "    <tr>\n",
       "      <th>2</th>\n",
       "      <td>3</td>\n",
       "      <td>Baut &amp; Mur</td>\n",
       "    </tr>\n",
       "    <tr>\n",
       "      <th>3</th>\n",
       "      <td>4</td>\n",
       "      <td>Baut &amp; Mur + Ring</td>\n",
       "    </tr>\n",
       "    <tr>\n",
       "      <th>4</th>\n",
       "      <td>5</td>\n",
       "      <td>Besi</td>\n",
       "    </tr>\n",
       "  </tbody>\n",
       "</table>\n",
       "</div>"
      ],
      "text/plain": [
       "   Categori_ID           Categori\n",
       "0            1              Angle\n",
       "1            2           Baja IWF\n",
       "2            3         Baut & Mur\n",
       "3            4  Baut & Mur + Ring\n",
       "4            5               Besi"
      ]
     },
     "execution_count": 8,
     "metadata": {},
     "output_type": "execute_result"
    }
   ],
   "source": [
    "Categori.head()"
   ]
  },
  {
   "cell_type": "code",
   "execution_count": 9,
   "id": "a3685e6d",
   "metadata": {},
   "outputs": [],
   "source": [
    "for index, row in Categori.iterrows():\n",
    "    cursor.execute(\"MERGE dbo.Categori as t1 USING (Values(?,?))\\\n",
    "                   AS t2(Categori_ID, Categori) ON t1.Categori_ID = t2.Categori_ID\\\n",
    "                   WHEN MATCHED THEN UPDATE SET t1.Categori_ID = t2.Categori_ID, t1.Categori = t2.Categori\\\n",
    "                   WHEN NOT MATCHED BY TARGET THEN INSERT (Categori_ID, Categori) VALUES (t2.Categori_ID, t2.Categori); \", row['Categori_ID'], row['Categori']) "
   ]
  },
  {
   "cell_type": "code",
   "execution_count": 10,
   "id": "6905e755",
   "metadata": {},
   "outputs": [],
   "source": [
    "c_Oltp.commit()\n",
    "cursor.close()"
   ]
  },
  {
   "cell_type": "markdown",
   "id": "bf67efdf",
   "metadata": {},
   "source": [
    "# LOKASI"
   ]
  },
  {
   "cell_type": "code",
   "execution_count": 11,
   "id": "e857e6bd",
   "metadata": {},
   "outputs": [],
   "source": [
    "c_Oltp = pyodbc.connect(\"Driver={SQL Server};\"\n",
    "            \"Server=DESKTOP-LKUO5BT\\SQLEXPRESS;\"\n",
    "            \"Database=DB_Oltp;\"\n",
    "            \"Trusted_Connection=yes;\")\n",
    "cursor = c_Oltp.cursor()"
   ]
  },
  {
   "cell_type": "code",
   "execution_count": 12,
   "id": "fe99670e",
   "metadata": {},
   "outputs": [],
   "source": [
    "Lokasi = pd.DataFrame(np.sort(df['Lokasi'].unique()), columns=['Lokasi'])\n",
    "Lokasi['Lokasi_ID'] = range(1, 1 + len(Lokasi))\n",
    "Lokasi = Lokasi.reindex(columns=['Lokasi_ID', 'Lokasi'])"
   ]
  },
  {
   "cell_type": "code",
   "execution_count": 13,
   "id": "f44aefec",
   "metadata": {},
   "outputs": [
    {
     "data": {
      "text/html": [
       "<div>\n",
       "<style scoped>\n",
       "    .dataframe tbody tr th:only-of-type {\n",
       "        vertical-align: middle;\n",
       "    }\n",
       "\n",
       "    .dataframe tbody tr th {\n",
       "        vertical-align: top;\n",
       "    }\n",
       "\n",
       "    .dataframe thead th {\n",
       "        text-align: right;\n",
       "    }\n",
       "</style>\n",
       "<table border=\"1\" class=\"dataframe\">\n",
       "  <thead>\n",
       "    <tr style=\"text-align: right;\">\n",
       "      <th></th>\n",
       "      <th>Lokasi_ID</th>\n",
       "      <th>Lokasi</th>\n",
       "    </tr>\n",
       "  </thead>\n",
       "  <tbody>\n",
       "    <tr>\n",
       "      <th>0</th>\n",
       "      <td>1</td>\n",
       "      <td>Bangka</td>\n",
       "    </tr>\n",
       "    <tr>\n",
       "      <th>1</th>\n",
       "      <td>2</td>\n",
       "      <td>Banjarmasin</td>\n",
       "    </tr>\n",
       "    <tr>\n",
       "      <th>2</th>\n",
       "      <td>3</td>\n",
       "      <td>Belitung</td>\n",
       "    </tr>\n",
       "    <tr>\n",
       "      <th>3</th>\n",
       "      <td>4</td>\n",
       "      <td>Jambi</td>\n",
       "    </tr>\n",
       "    <tr>\n",
       "      <th>4</th>\n",
       "      <td>5</td>\n",
       "      <td>Jayapura</td>\n",
       "    </tr>\n",
       "  </tbody>\n",
       "</table>\n",
       "</div>"
      ],
      "text/plain": [
       "   Lokasi_ID       Lokasi\n",
       "0          1       Bangka\n",
       "1          2  Banjarmasin\n",
       "2          3     Belitung\n",
       "3          4        Jambi\n",
       "4          5     Jayapura"
      ]
     },
     "execution_count": 13,
     "metadata": {},
     "output_type": "execute_result"
    }
   ],
   "source": [
    "Lokasi.head()"
   ]
  },
  {
   "cell_type": "code",
   "execution_count": 14,
   "id": "b905cd75",
   "metadata": {},
   "outputs": [],
   "source": [
    "for index, row in Lokasi.iterrows():\n",
    "    cursor.execute(\"MERGE dbo.Lokasi as t1 USING (Values(?,?))\\\n",
    "                   AS t2(Lokasi_ID, Lokasi) ON t1.Lokasi_ID = t2.Lokasi_ID\\\n",
    "                   WHEN MATCHED THEN UPDATE SET t1.Lokasi_ID = t2.Lokasi_ID, t1.Lokasi = t2.Lokasi\\\n",
    "                   WHEN NOT MATCHED BY TARGET THEN INSERT (Lokasi_ID, Lokasi) VALUES (t2.Lokasi_ID, t2.Lokasi); \", row['Lokasi_ID'], row['Lokasi']) "
   ]
  },
  {
   "cell_type": "code",
   "execution_count": 15,
   "id": "426e77af",
   "metadata": {},
   "outputs": [],
   "source": [
    "c_Oltp.commit()\n",
    "cursor.close()"
   ]
  },
  {
   "cell_type": "markdown",
   "id": "4269f369",
   "metadata": {},
   "source": [
    "# ORDER UNIT"
   ]
  },
  {
   "cell_type": "code",
   "execution_count": 16,
   "id": "c3f64a7e",
   "metadata": {},
   "outputs": [],
   "source": [
    "c_Oltp = pyodbc.connect(\"Driver={SQL Server};\"\n",
    "            \"Server=DESKTOP-LKUO5BT\\SQLEXPRESS;\"\n",
    "            \"Database=DB_Oltp;\"\n",
    "            \"Trusted_Connection=yes;\")\n",
    "cursor = c_Oltp.cursor()"
   ]
  },
  {
   "cell_type": "code",
   "execution_count": 17,
   "id": "2a97cd94",
   "metadata": {},
   "outputs": [],
   "source": [
    "Order_Unit = pd.DataFrame(np.sort(df['Order_Unit'].unique()), columns=['Order_Unit'])\n",
    "Order_Unit['OrderUnit_ID'] = range(1, 1 + len(Order_Unit))\n",
    "Order_Unit = Order_Unit.reindex(columns=['OrderUnit_ID', 'Order_Unit'])"
   ]
  },
  {
   "cell_type": "code",
   "execution_count": 18,
   "id": "31f4fba4",
   "metadata": {},
   "outputs": [
    {
     "data": {
      "text/html": [
       "<div>\n",
       "<style scoped>\n",
       "    .dataframe tbody tr th:only-of-type {\n",
       "        vertical-align: middle;\n",
       "    }\n",
       "\n",
       "    .dataframe tbody tr th {\n",
       "        vertical-align: top;\n",
       "    }\n",
       "\n",
       "    .dataframe thead th {\n",
       "        text-align: right;\n",
       "    }\n",
       "</style>\n",
       "<table border=\"1\" class=\"dataframe\">\n",
       "  <thead>\n",
       "    <tr style=\"text-align: right;\">\n",
       "      <th></th>\n",
       "      <th>OrderUnit_ID</th>\n",
       "      <th>Order_Unit</th>\n",
       "    </tr>\n",
       "  </thead>\n",
       "  <tbody>\n",
       "    <tr>\n",
       "      <th>0</th>\n",
       "      <td>1</td>\n",
       "      <td>BOX</td>\n",
       "    </tr>\n",
       "    <tr>\n",
       "      <th>1</th>\n",
       "      <td>2</td>\n",
       "      <td>BTG</td>\n",
       "    </tr>\n",
       "    <tr>\n",
       "      <th>2</th>\n",
       "      <td>3</td>\n",
       "      <td>EA</td>\n",
       "    </tr>\n",
       "    <tr>\n",
       "      <th>3</th>\n",
       "      <td>4</td>\n",
       "      <td>KG</td>\n",
       "    </tr>\n",
       "    <tr>\n",
       "      <th>4</th>\n",
       "      <td>5</td>\n",
       "      <td>LBR</td>\n",
       "    </tr>\n",
       "  </tbody>\n",
       "</table>\n",
       "</div>"
      ],
      "text/plain": [
       "   OrderUnit_ID Order_Unit\n",
       "0             1        BOX\n",
       "1             2        BTG\n",
       "2             3         EA\n",
       "3             4         KG\n",
       "4             5        LBR"
      ]
     },
     "execution_count": 18,
     "metadata": {},
     "output_type": "execute_result"
    }
   ],
   "source": [
    "Order_Unit.head()"
   ]
  },
  {
   "cell_type": "code",
   "execution_count": 19,
   "id": "a2130ea8",
   "metadata": {},
   "outputs": [],
   "source": [
    "for index, row in Order_Unit.iterrows():\n",
    "    cursor.execute(\"MERGE dbo.OrderUnit as t1 USING (Values(?,?))\\\n",
    "                   AS t2(OrderUnit_ID, Order_Unit) ON t1.OrderUnit_ID = t2.OrderUnit_ID\\\n",
    "                   WHEN MATCHED THEN UPDATE SET t1.OrderUnit_ID = t2.OrderUnit_ID, t1.Order_Unit = t2.Order_Unit\\\n",
    "                   WHEN NOT MATCHED BY TARGET THEN INSERT (OrderUnit_ID, Order_Unit) VALUES (t2.OrderUnit_ID, t2.Order_Unit); \", row['OrderUnit_ID'], row['Order_Unit']) "
   ]
  },
  {
   "cell_type": "code",
   "execution_count": 20,
   "id": "0bc1db86",
   "metadata": {},
   "outputs": [],
   "source": [
    "c_Oltp.commit()\n",
    "cursor.close()"
   ]
  },
  {
   "cell_type": "markdown",
   "id": "b3f2d2a5",
   "metadata": {},
   "source": [
    "# PEMBELIAN"
   ]
  },
  {
   "cell_type": "code",
   "execution_count": 6,
   "id": "569b3128",
   "metadata": {},
   "outputs": [],
   "source": [
    "c_Oltp = pyodbc.connect(\"Driver={SQL Server};\"\n",
    "            \"Server=DESKTOP-LKUO5BT\\SQLEXPRESS;\"\n",
    "            \"Database=DB_Oltp;\"\n",
    "            \"Trusted_Connection=yes;\")\n",
    "cursor = c_Oltp.cursor()"
   ]
  },
  {
   "cell_type": "code",
   "execution_count": 7,
   "id": "4a8c941d",
   "metadata": {},
   "outputs": [],
   "source": [
    "sqlQueryCategori = \"SELECT * FROM dbo.Categori\"\n",
    "df_Categori = pd.read_sql(sql = sqlQueryCategori, con = c_Oltp)\n",
    "\n",
    "sqlQueryLokasi = \"SELECT * FROM dbo.Lokasi\"\n",
    "df_Lokasi = pd.read_sql(sql = sqlQueryLokasi, con = c_Oltp)\n",
    "\n",
    "sqlQueryOrder_Unit = \"SELECT * FROM dbo.OrderUnit\"\n",
    "df_Order_Unit = pd.read_sql(sql = sqlQueryOrder_Unit, con = c_Oltp)"
   ]
  },
  {
   "cell_type": "code",
   "execution_count": 8,
   "id": "64f26742",
   "metadata": {},
   "outputs": [],
   "source": [
    "Categori_merged = df.merge(df_Categori, left_on = 'Categori', right_on = 'Categori', how='left')\n",
    "Lokasi_merged = Categori_merged.merge(df_Lokasi, left_on = 'Lokasi', right_on = 'Lokasi', how='left')\n",
    "Order_Unit_merged = Lokasi_merged.merge(df_Order_Unit, left_on = 'Order_Unit', right_on = 'Order_Unit', how='left')"
   ]
  },
  {
   "cell_type": "code",
   "execution_count": 9,
   "id": "89d2113e",
   "metadata": {},
   "outputs": [],
   "source": [
    "Pembelian = Order_Unit_merged[['Purchasing_Document', 'Document_Date', 'Short_Text', 'Order_Quantity', 'Net_price', 'Categori_id', 'Lokasi_id','OrderUnit_id']].rename(columns={'Document_Date': 'Tanggal_Document' , 'Short_Text' : 'Nama_Barang', 'Order_Quantity' : 'Jumlah_Pembelian', 'Net_price' : 'Harga'}).copy()\n",
    "Pembelian[['Purchasing_Document_id']] = range(1, 1+len(Pembelian))\n",
    "Pembelian = Pembelian.reindex(columns=['Purchasing_Document_id', 'Categori_id', 'Lokasi_id','OrderUnit_id','Purchasing_Document', 'Tanggal_Document', 'Nama_Barang', 'Jumlah_Pembelian', 'Harga'])"
   ]
  },
  {
   "cell_type": "code",
   "execution_count": 10,
   "id": "63b20f95",
   "metadata": {},
   "outputs": [
    {
     "data": {
      "text/html": [
       "<div>\n",
       "<style scoped>\n",
       "    .dataframe tbody tr th:only-of-type {\n",
       "        vertical-align: middle;\n",
       "    }\n",
       "\n",
       "    .dataframe tbody tr th {\n",
       "        vertical-align: top;\n",
       "    }\n",
       "\n",
       "    .dataframe thead th {\n",
       "        text-align: right;\n",
       "    }\n",
       "</style>\n",
       "<table border=\"1\" class=\"dataframe\">\n",
       "  <thead>\n",
       "    <tr style=\"text-align: right;\">\n",
       "      <th></th>\n",
       "      <th>Purchasing_Document_id</th>\n",
       "      <th>Categori_id</th>\n",
       "      <th>Lokasi_id</th>\n",
       "      <th>OrderUnit_id</th>\n",
       "      <th>Purchasing_Document</th>\n",
       "      <th>Tanggal_Document</th>\n",
       "      <th>Nama_Barang</th>\n",
       "      <th>Jumlah_Pembelian</th>\n",
       "      <th>Harga</th>\n",
       "    </tr>\n",
       "  </thead>\n",
       "  <tbody>\n",
       "    <tr>\n",
       "      <th>0</th>\n",
       "      <td>1</td>\n",
       "      <td>2</td>\n",
       "      <td>13</td>\n",
       "      <td>2</td>\n",
       "      <td>9100427506</td>\n",
       "      <td>12/30/2020</td>\n",
       "      <td>Baja IWF 200 x 100 x 5.5 x 8mm - 6m</td>\n",
       "      <td>4.0</td>\n",
       "      <td>1,787,500</td>\n",
       "    </tr>\n",
       "    <tr>\n",
       "      <th>1</th>\n",
       "      <td>2</td>\n",
       "      <td>42</td>\n",
       "      <td>13</td>\n",
       "      <td>5</td>\n",
       "      <td>9100427506</td>\n",
       "      <td>12/30/2020</td>\n",
       "      <td>Plate bordes 6mm x 4' x 8'</td>\n",
       "      <td>1.0</td>\n",
       "      <td>2,169,500</td>\n",
       "    </tr>\n",
       "    <tr>\n",
       "      <th>2</th>\n",
       "      <td>3</td>\n",
       "      <td>42</td>\n",
       "      <td>13</td>\n",
       "      <td>2</td>\n",
       "      <td>9100427506</td>\n",
       "      <td>12/30/2020</td>\n",
       "      <td>Plate strip 4 x 38 x 6000mm</td>\n",
       "      <td>5.0</td>\n",
       "      <td>130,000</td>\n",
       "    </tr>\n",
       "    <tr>\n",
       "      <th>3</th>\n",
       "      <td>4</td>\n",
       "      <td>40</td>\n",
       "      <td>13</td>\n",
       "      <td>2</td>\n",
       "      <td>9100427506</td>\n",
       "      <td>12/30/2020</td>\n",
       "      <td>Pipa galvanish 2\" x 6m class Medium BS</td>\n",
       "      <td>2.0</td>\n",
       "      <td>607,000</td>\n",
       "    </tr>\n",
       "    <tr>\n",
       "      <th>4</th>\n",
       "      <td>5</td>\n",
       "      <td>42</td>\n",
       "      <td>13</td>\n",
       "      <td>5</td>\n",
       "      <td>9100427506</td>\n",
       "      <td>12/30/2020</td>\n",
       "      <td>Plate mild steel 6mm x 5' x 20'</td>\n",
       "      <td>2.0</td>\n",
       "      <td>5,322,000</td>\n",
       "    </tr>\n",
       "  </tbody>\n",
       "</table>\n",
       "</div>"
      ],
      "text/plain": [
       "   Purchasing_Document_id  Categori_id  Lokasi_id  OrderUnit_id  \\\n",
       "0                       1            2         13             2   \n",
       "1                       2           42         13             5   \n",
       "2                       3           42         13             2   \n",
       "3                       4           40         13             2   \n",
       "4                       5           42         13             5   \n",
       "\n",
       "   Purchasing_Document Tanggal_Document  \\\n",
       "0           9100427506       12/30/2020   \n",
       "1           9100427506       12/30/2020   \n",
       "2           9100427506       12/30/2020   \n",
       "3           9100427506       12/30/2020   \n",
       "4           9100427506       12/30/2020   \n",
       "\n",
       "                              Nama_Barang  Jumlah_Pembelian      Harga  \n",
       "0     Baja IWF 200 x 100 x 5.5 x 8mm - 6m               4.0  1,787,500  \n",
       "1              Plate bordes 6mm x 4' x 8'               1.0  2,169,500  \n",
       "2             Plate strip 4 x 38 x 6000mm               5.0    130,000  \n",
       "3  Pipa galvanish 2\" x 6m class Medium BS               2.0    607,000  \n",
       "4         Plate mild steel 6mm x 5' x 20'               2.0  5,322,000  "
      ]
     },
     "execution_count": 10,
     "metadata": {},
     "output_type": "execute_result"
    }
   ],
   "source": [
    "Pembelian.head()"
   ]
  },
  {
   "cell_type": "code",
   "execution_count": 11,
   "id": "a788a764",
   "metadata": {},
   "outputs": [],
   "source": [
    "for index, row in Pembelian.iterrows():\n",
    "    cursor.execute(\"MERGE dbo.Pembelian as t1 USING (Values(?,?,?,?,?,?,?,?,?))\\\n",
    "                   AS t2(Purchasing_Document_id, Purchasing_Document, Tanggal_Document, Nama_Barang, Jumlah_Pembelian, Harga, Categori_id, Lokasi_id, OrderUnit_id) ON t1.Purchasing_Document_id = t2.Purchasing_Document_id\\\n",
    "                   WHEN MATCHED THEN UPDATE SET t1.Purchasing_Document_id = t2.Purchasing_Document_id, t1.Purchasing_Document = t2.Purchasing_Document, t1.Tanggal_Document = t2.Tanggal_Document, t1.Nama_Barang = t2.Nama_Barang, t1.Jumlah_Pembelian = t2.Jumlah_Pembelian, t1.Harga = t2.Harga, t1.Categori_id = t2.Categori_id, t1.Lokasi_id = t2.Lokasi_id, t1.OrderUnit_id = t2.OrderUnit_id\\\n",
    "                   WHEN NOT MATCHED BY TARGET THEN INSERT (Purchasing_Document_id, Purchasing_Document, Tanggal_Document, Nama_Barang, Jumlah_Pembelian, Harga, Categori_id, Lokasi_id, OrderUnit_id) VALUES (t2.Purchasing_Document_id, t2.Purchasing_Document, t2.Tanggal_Document, t2.Nama_Barang, t2.Jumlah_Pembelian, t2.Harga, t2.Categori_id, t2.Lokasi_id, t2.OrderUnit_id ); \", row['Purchasing_Document_id'], row['Purchasing_Document'], row['Tanggal_Document'], row['Nama_Barang'], row['Jumlah_Pembelian'], row['Harga'],row['Categori_id'], row['Lokasi_id'], row['OrderUnit_id']) "
   ]
  },
  {
   "cell_type": "code",
   "execution_count": 12,
   "id": "eb711746",
   "metadata": {},
   "outputs": [],
   "source": [
    "c_Oltp.commit()\n",
    "cursor.close()"
   ]
  }
 ],
 "metadata": {
  "kernelspec": {
   "display_name": "Python 3",
   "language": "python",
   "name": "python3"
  },
  "language_info": {
   "codemirror_mode": {
    "name": "ipython",
    "version": 3
   },
   "file_extension": ".py",
   "mimetype": "text/x-python",
   "name": "python",
   "nbconvert_exporter": "python",
   "pygments_lexer": "ipython3",
   "version": "3.8.8"
  }
 },
 "nbformat": 4,
 "nbformat_minor": 5
}
